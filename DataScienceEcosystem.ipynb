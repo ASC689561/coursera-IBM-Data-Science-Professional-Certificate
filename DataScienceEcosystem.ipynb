{
 "cells": [
  {
   "cell_type": "markdown",
   "id": "62ea9ee4-9d5e-43bd-9200-c85c361a07c1",
   "metadata": {},
   "source": [
    "# Data Science Tools and Ecosystem"
   ]
  },
  {
   "cell_type": "markdown",
   "id": "16875155-9e9c-4317-9428-abf82041aae2",
   "metadata": {},
   "source": [
    "## In this notebook, Data Science Tools and Ecosystem are summarized."
   ]
  },
  {
   "cell_type": "markdown",
   "id": "d9627529-c8b2-48c9-b2fd-d898a42d087c",
   "metadata": {},
   "source": [
    "**Objectives:** \n",
    "* Python\n",
    "* Java\n",
    "* Go\n",
    "* R\n",
    "* C#"
   ]
  },
  {
   "cell_type": "markdown",
   "id": "de23dc4f-93d5-4c45-a5fd-23df2c5cd458",
   "metadata": {},
   "source": [
    "Some of the popular languages that Data Scientists use are: \n",
    "1. Python\n",
    "2. R\n",
    "3. Go"
   ]
  },
  {
   "cell_type": "markdown",
   "id": "aa3d959d-f04c-4239-a914-2b125a1d937b",
   "metadata": {},
   "source": [
    "Some of the commonly used libraries used by Data Scientists include:\n",
    "* scikit-learn\n",
    "* numpy\n",
    "* pandas"
   ]
  },
  {
   "cell_type": "markdown",
   "id": "074ada76-4af6-49dd-89a1-78a2f0fd22f7",
   "metadata": {},
   "source": [
    "Data Science Tools\n",
    "|   |\n",
    "|---|\n",
    "|airflow|\n",
    "|jupyter| \n",
    "|R|"
   ]
  },
  {
   "cell_type": "markdown",
   "id": "b50cf421-49a0-4f83-aad3-2e8774e58c8e",
   "metadata": {},
   "source": [
    "### Below are a few examples of evaluating arithmetic expressions in Python"
   ]
  },
  {
   "cell_type": "code",
   "execution_count": 3,
   "id": "3e0c1315-df87-41c2-82e8-9133575590c8",
   "metadata": {},
   "outputs": [
    {
     "data": {
      "text/plain": [
       "17"
      ]
     },
     "execution_count": 3,
     "metadata": {},
     "output_type": "execute_result"
    }
   ],
   "source": [
    "# This a simple arithmetic expression to mutiply then add integers\n",
    "(3*4)+5"
   ]
  },
  {
   "cell_type": "code",
   "execution_count": 5,
   "id": "a7c58bfc-ac20-4440-b4a4-e7ff2a8e9d0d",
   "metadata": {},
   "outputs": [
    {
     "data": {
      "text/plain": [
       "3"
      ]
     },
     "execution_count": 5,
     "metadata": {},
     "output_type": "execute_result"
    }
   ],
   "source": [
    "# This will convert 200 minutes to hours by diving by 60\n",
    "200//60"
   ]
  },
  {
   "cell_type": "markdown",
   "id": "cf57605b-cb6e-4f76-9e00-3eeea2a33dc6",
   "metadata": {},
   "source": [
    "## Author\n",
    "Nguyen ba hoa"
   ]
  },
  {
   "cell_type": "code",
   "execution_count": null,
   "id": "b2f91993-3d80-4770-8c86-df20107e6090",
   "metadata": {},
   "outputs": [],
   "source": []
  }
 ],
 "metadata": {
  "kernelspec": {
   "display_name": "Python 3 (ipykernel)",
   "language": "python",
   "name": "python3"
  },
  "language_info": {
   "codemirror_mode": {
    "name": "ipython",
    "version": 3
   },
   "file_extension": ".py",
   "mimetype": "text/x-python",
   "name": "python",
   "nbconvert_exporter": "python",
   "pygments_lexer": "ipython3",
   "version": "3.10.12"
  }
 },
 "nbformat": 4,
 "nbformat_minor": 5
}
